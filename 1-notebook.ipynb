{
 "cells": [
  {
   "cell_type": "markdown",
   "id": "b0c0b739-b466-4c7c-81b9-1dbb900f82cb",
   "metadata": {},
   "source": [
    "markdown cell"
   ]
  },
  {
   "cell_type": "markdown",
   "id": "00116c35-571b-43a6-9fac-b3e23a36ee1e",
   "metadata": {},
   "source": [
    "2-notebook"
   ]
  },
  {
   "cell_type": "code",
   "execution_count": 4,
   "id": "eee10f26-b42d-46e6-aa95-4e787a686427",
   "metadata": {},
   "outputs": [],
   "source": [
    "import pandas as pd\n",
    "import numpy as np\n",
    "import matplotlib.pyplot as plt"
   ]
  },
  {
   "cell_type": "markdown",
   "id": "c47f74b3-b5b8-41d6-825c-ca6999358011",
   "metadata": {},
   "source": [
    "Introduction\n",
    "the above cell is a markdown cell\n",
    "this is my first time to create a markdown cell and write a message on it"
   ]
  },
  {
   "cell_type": "raw",
   "id": "22d292b0-1a1c-47a6-b5fa-22dc80e76c6b",
   "metadata": {},
   "source": [
    "list of data science languages:\n",
    "1)Python\n",
    "2)R\n",
    "3)SQL\n",
    "4)Scala\n",
    "5)C/C++\n",
    "6)Matlab"
   ]
  },
  {
   "cell_type": "markdown",
   "id": "b19e0dfe-5a25-44b2-812f-41a25e0ac53e",
   "metadata": {},
   "source": [
    "list of data science libraries:\n",
    "1)PyTorch\n",
    "2)Tensorflow\n",
    "3)Seaborn\n",
    "4)PyPlot\n",
    "5)pandas"
   ]
  },
  {
   "cell_type": "markdown",
   "id": "974e6458-5c65-45be-b52b-a15d5d6762d9",
   "metadata": {},
   "source": [
    "Data Science tools:\n",
    "1)Jupyter Notebook\n",
    "2)Microsoft Excel\n",
    "3)Power BI\n",
    "4)Tableau\n",
    "5)Google colab\n",
    "6)Apache Spark"
   ]
  },
  {
   "cell_type": "markdown",
   "id": "c72fc752-bea3-44cf-ab6b-79a1823f7d92",
   "metadata": {},
   "source": [
    "this is an arithmetic expression:\n",
    "7+4 = 11"
   ]
  },
  {
   "cell_type": "code",
   "execution_count": 5,
   "id": "2f033e72-77a3-4a88-93b7-966aaffca1f3",
   "metadata": {},
   "outputs": [
    {
     "name": "stdout",
     "output_type": "stream",
     "text": [
      "The product of 5 and 10 is: 50\n",
      "The sum of 50 and 3 is: 53\n"
     ]
    }
   ],
   "source": [
    "# Define numbers\n",
    "a = 5\n",
    "b = 10\n",
    "c = 3\n",
    "\n",
    "# Perform multiplication\n",
    "product = a * b\n",
    "\n",
    "# Perform addition\n",
    "sum_result = product + c\n",
    "\n",
    "# Display the results\n",
    "print(f\"The product of {a} and {b} is: {product}\")\n",
    "print(f\"The sum of {product} and {c} is: {sum_result}\")"
   ]
  },
  {
   "cell_type": "code",
   "execution_count": 6,
   "id": "d303d42b-cf7f-4c10-b9fe-7e62630b0240",
   "metadata": {},
   "outputs": [
    {
     "name": "stdout",
     "output_type": "stream",
     "text": [
      "150 minutes is equal to 2.50 hours.\n"
     ]
    }
   ],
   "source": [
    "# Input: Number of minutes\n",
    "minutes = 150  # You can change this value to test with other numbers\n",
    "\n",
    "# Conversion to hours\n",
    "hours = minutes / 60\n",
    "\n",
    "# Display the result\n",
    "print(f\"{minutes} minutes is equal to {hours:.2f} hours.\")"
   ]
  },
  {
   "cell_type": "markdown",
   "id": "fcd1c22c-a1da-48f9-bec4-2aff7d42067f",
   "metadata": {},
   "source": [
    "## Welcome to Data Science!\n",
    "\n",
    "Data science involves a combination of skills and tools. Here are some key components:\n",
    "\n",
    "- Data manipulation\n",
    "- Data visualization\n",
    "- Machine learning\n",
    "- Big data processing\n",
    "- Statistical analysis\n"
   ]
  },
  {
   "cell_type": "markdown",
   "id": "08fdb93f-aa73-49d6-bed7-91cabfc489f4",
   "metadata": {},
   "source": [
    "## Author - PARIMAL MATE"
   ]
  },
  {
   "cell_type": "code",
   "execution_count": null,
   "id": "f5863dcb-7d8c-4325-9553-8b76b2ccb8ff",
   "metadata": {},
   "outputs": [],
   "source": []
  }
 ],
 "metadata": {
  "kernelspec": {
   "display_name": "Python 3 (ipykernel)",
   "language": "python",
   "name": "python3"
  },
  "language_info": {
   "codemirror_mode": {
    "name": "ipython",
    "version": 3
   },
   "file_extension": ".py",
   "mimetype": "text/x-python",
   "name": "python",
   "nbconvert_exporter": "python",
   "pygments_lexer": "ipython3",
   "version": "3.12.5"
  }
 },
 "nbformat": 4,
 "nbformat_minor": 5
}
